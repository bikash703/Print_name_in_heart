{
 "cells": [
  {
   "cell_type": "code",
   "execution_count": 23,
   "id": "0820e48a",
   "metadata": {},
   "outputs": [
    {
     "name": "stdout",
     "output_type": "stream",
     "text": [
      "Enter a Number: 4\n",
      "   * 1\n",
      "  ** 23\n",
      " *** 345\n",
      "**** 4567\n",
      "4321 1357\n",
      " 432 357\n",
      "  43 57\n",
      "   4 7\n"
     ]
    }
   ],
   "source": [
    "n=int(input('Enter a Number: '))\n",
    "for i in range(n):\n",
    "    m=i+1\n",
    "    for j in range(n-i-1):\n",
    "        print(' ',end='')\n",
    "    for j in range(i+1):\n",
    "        print('*',end='')\n",
    "    print(end=' ')\n",
    "    for j in range(i+1):\n",
    "        print(m,end='')\n",
    "        m=m+1\n",
    "    print()\n",
    "for i in range(0,2*n,2):\n",
    "    k=i//2\n",
    "    for j in range(k):\n",
    "        print(' ',end='')\n",
    "    for j in range(n-k):\n",
    "        print(n-j,end='')\n",
    "    print(end=' ')\n",
    "    for j in range(i,2*n,2):\n",
    "        print(j+1,end='')\n",
    "    print()\n",
    "        "
   ]
  },
  {
   "cell_type": "code",
   "execution_count": null,
   "id": "26a3054f",
   "metadata": {},
   "outputs": [],
   "source": []
  }
 ],
 "metadata": {
  "kernelspec": {
   "display_name": "Python 3 (ipykernel)",
   "language": "python",
   "name": "python3"
  },
  "language_info": {
   "codemirror_mode": {
    "name": "ipython",
    "version": 3
   },
   "file_extension": ".py",
   "mimetype": "text/x-python",
   "name": "python",
   "nbconvert_exporter": "python",
   "pygments_lexer": "ipython3",
   "version": "3.9.7"
  }
 },
 "nbformat": 4,
 "nbformat_minor": 5
}
